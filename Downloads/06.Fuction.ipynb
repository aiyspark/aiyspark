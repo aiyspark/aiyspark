{
  "nbformat": 4,
  "nbformat_minor": 0,
  "metadata": {
    "colab": {
      "name": "Untitled3.ipynb",
      "provenance": [],
      "collapsed_sections": []
    },
    "kernelspec": {
      "name": "python3",
      "display_name": "Python 3"
    },
    "language_info": {
      "name": "python"
    }
  },
  "cells": [
    {
      "cell_type": "markdown",
      "metadata": {
        "id": "tl42FUoqSMoK"
      },
      "source": [
        "#1.Function"
      ]
    },
    {
      "cell_type": "code",
      "metadata": {
        "id": "iBi4wpSGSF4g"
      },
      "source": [
        "stationfares = [\n",
        "            {\"station\": \"청량리\", \"fare\": 1500},\n",
        "            {\"station\": \"성북\", \"fare\": 1800},\n",
        "            {\"station\": \"의정부\", \"fare\": 2000},\n",
        "            {\"station\": \"소요산\", \"fare\": 2500}\n",
        "]"
      ],
      "execution_count": 1,
      "outputs": []
    },
    {
      "cell_type": "code",
      "metadata": {
        "id": "U_QVb0cQSVGe"
      },
      "source": [
        "stations = []\n",
        "fares = []"
      ],
      "execution_count": 2,
      "outputs": []
    },
    {
      "cell_type": "code",
      "metadata": {
        "colab": {
          "base_uri": "https://localhost:8080/"
        },
        "id": "mgKEliefSamC",
        "outputId": "af2846f9-129c-4995-cd85-0aa4acdbba36"
      },
      "source": [
        "for stationfare in stationfares:\n",
        "  stations.append(stationfare['station'])\n",
        "  fares.append(stationfare['fare'])\n",
        "print(stations)\n",
        "print(fares)"
      ],
      "execution_count": 3,
      "outputs": [
        {
          "output_type": "stream",
          "name": "stdout",
          "text": [
            "['청량리', '성북', '의정부', '소요산']\n",
            "[1500, 1800, 2000, 2500]\n"
          ]
        }
      ]
    },
    {
      "cell_type": "code",
      "metadata": {
        "colab": {
          "base_uri": "https://localhost:8080/"
        },
        "id": "a0LU-6FsTCTf",
        "outputId": "0e9af755-7171-4945-f6d9-9b34ef970dc4"
      },
      "source": [
        "len(stationfares)"
      ],
      "execution_count": 4,
      "outputs": [
        {
          "output_type": "execute_result",
          "data": {
            "text/plain": [
              "4"
            ]
          },
          "metadata": {},
          "execution_count": 4
        }
      ]
    },
    {
      "cell_type": "code",
      "metadata": {
        "colab": {
          "base_uri": "https://localhost:8080/"
        },
        "id": "woqT7wo4TE4d",
        "outputId": "d9504f33-5711-42bf-d32c-66ff5802ed3f"
      },
      "source": [
        "max(fares)"
      ],
      "execution_count": 5,
      "outputs": [
        {
          "output_type": "execute_result",
          "data": {
            "text/plain": [
              "2500"
            ]
          },
          "metadata": {},
          "execution_count": 5
        }
      ]
    },
    {
      "cell_type": "code",
      "metadata": {
        "colab": {
          "base_uri": "https://localhost:8080/"
        },
        "id": "v12xZPaDTHDb",
        "outputId": "9dc0736a-1179-4f80-dc5c-a8c3eb8200d7"
      },
      "source": [
        "sum(fares)"
      ],
      "execution_count": 6,
      "outputs": [
        {
          "output_type": "execute_result",
          "data": {
            "text/plain": [
              "7800"
            ]
          },
          "metadata": {},
          "execution_count": 6
        }
      ]
    },
    {
      "cell_type": "code",
      "metadata": {
        "colab": {
          "base_uri": "https://localhost:8080/"
        },
        "id": "11OgnvjdTfBu",
        "outputId": "3891eede-60b5-46cb-c949-a631fd2c66f0"
      },
      "source": [
        "for idx, station in enumerate(stations):\n",
        "    print(idx, station)"
      ],
      "execution_count": 7,
      "outputs": [
        {
          "output_type": "stream",
          "name": "stdout",
          "text": [
            "0 청량리\n",
            "1 성북\n",
            "2 의정부\n",
            "3 소요산\n"
          ]
        }
      ]
    },
    {
      "cell_type": "code",
      "metadata": {
        "colab": {
          "base_uri": "https://localhost:8080/"
        },
        "id": "pcQffUu_Tx7s",
        "outputId": "9af66e87-c677-4099-9fbb-360969f00378"
      },
      "source": [
        "sum = lambda a, b : a + b\n",
        "sum(2, 3)"
      ],
      "execution_count": 12,
      "outputs": [
        {
          "output_type": "execute_result",
          "data": {
            "text/plain": [
              "5"
            ]
          },
          "metadata": {},
          "execution_count": 12
        }
      ]
    },
    {
      "cell_type": "code",
      "metadata": {
        "colab": {
          "base_uri": "https://localhost:8080/"
        },
        "id": "mjZzUa_UT9bu",
        "outputId": "0089ca4d-97b0-43c7-e01f-0987e23e93f7"
      },
      "source": [
        "def getFare(station):\n",
        "    for stationfare in stationfares:\n",
        "        if stationfare['station'] == station:\n",
        "            return stationfare['fare']\n",
        "\n",
        "fare = getFare(\"청량리\")\n",
        "print(fare)"
      ],
      "execution_count": 10,
      "outputs": [
        {
          "output_type": "stream",
          "name": "stdout",
          "text": [
            "1500\n"
          ]
        }
      ]
    },
    {
      "cell_type": "code",
      "metadata": {
        "colab": {
          "base_uri": "https://localhost:8080/"
        },
        "id": "1vCe94KhUjng",
        "outputId": "4123f75e-3c47-4d32-ea51-202737759990"
      },
      "source": [
        "for station in stations:\n",
        "    print(station, getFare(station))"
      ],
      "execution_count": 11,
      "outputs": [
        {
          "output_type": "stream",
          "name": "stdout",
          "text": [
            "청량리 1500\n",
            "성북 1800\n",
            "의정부 2000\n",
            "소요산 2500\n"
          ]
        }
      ]
    }
  ]
}